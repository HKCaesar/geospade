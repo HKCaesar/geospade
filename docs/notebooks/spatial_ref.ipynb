{
 "cells": [
  {
   "cell_type": "markdown",
   "metadata": {
    "slideshow": {
     "slide_type": "slide"
    }
   },
   "source": [
    "## Spatial Reference\n",
    "\n",
    "Spatial reference systems define a geodetic date (i.e. defined by an ellipsoid like WGS84 or GRS80) and a projection to define a transformation between 3D coordinates and a flat surface. There are three different encodings of a spatial reference system, which allow an easier exchange of such information and to assign them as properties of geo-referenced data formats like GeoTIFF or NetCDF:   \n",
    "\n",
    "- **EPSG**: This is the most compact declaration of a spatial reference system. An integer is assigned to a spatial reference system, which is often the preferred solution in many GIS interfaces (https://epsg.org/home.html).\n",
    "- **PROJ4/PROJ6**: PROJ is a generic coordinate transformation software that transforms geospatial coordinates from one coordinate reference system (CRS) to another. It comes along with an API, which translates \"PROJ-Strings\" (e.g., \"+proj=merc +lat_ts=56.5 +ellps=GRS80\") into a representation of coordinate reference system (https://proj.org/).\n",
    "- **WKT**: WKT stands for \"well-known text representation of coordinate reference systems\" and is a low-level, human-readable string format for spatial reference systems, similar to \"PROJ-Strings\", but with every information already included within the string. WKT will become deprecated and make way for WKT2, which standardises and defines some new attributes.\n",
    "\n",
    "`geospade` provides a class `SpatialRef` inside its `crs` module, which is a very slim interface toward all different spatial reference system representations. Below we define three different encodings for the same spatial reference system, namely \"MGI GK M34\":"
   ]
  },
  {
   "cell_type": "code",
   "execution_count": 1,
   "metadata": {
    "slideshow": {
     "slide_type": "slide"
    }
   },
   "outputs": [],
   "source": [
    "from geospade.crs import SpatialRef\n",
    "\n",
    "epsg_code = 31259\n",
    "\n",
    "wkt_string = 'PROJCS[\\\"MGI / Austria GK M34\\\",GEOGCS[\\\"MGI\\\",DATUM[\\\"Militar_Geographische_Institute\\\",SPHEROID' \\\n",
    "             '[\\\"Bessel 1841\\\",6377397.155,299.1528128,AUTHORITY[\\\"EPSG\\\",\\\"7004\\\"]],' \\\n",
    "             'TOWGS84[577.326,90.129,463.919,5.137,1.474,5.297,2.4232],AUTHORITY[\\\"EPSG\\\",\\\"6312\\\"]],' \\\n",
    "             'PRIMEM[\\\"Greenwich\\\",0,AUTHORITY[\\\"EPSG\\\",\\\"8901\\\"]],UNIT[\\\"degree\\\",0.0174532925199433,' \\\n",
    "             'AUTHORITY[\\\"EPSG\\\",\\\"9122\\\"]],AUTHORITY[\\\"EPSG\\\",\\\"4312\\\"]],PROJECTION[\\\"Transverse_Mercator\\\"],' \\\n",
    "             'PARAMETER[\\\"latitude_of_origin\\\",0],PARAMETER[\\\"central_meridian\\\",16.33333333333333],' \\\n",
    "             'PARAMETER[\\\"scale_factor\\\",1],PARAMETER[\\\"false_easting\\\",750000],' \\\n",
    "             'PARAMETER[\\\"false_northing\\\",-5000000],UNIT[\\\"metre\\\",1,AUTHORITY[\\\"EPSG\\\",\\\"9001\\\"]],' \\\n",
    "             'AUTHORITY[\\\"EPSG\\\",\\\"31259\\\"]]'\n",
    "\n",
    "proj4_params = '+init=EPSG:31259 +proj=tmerc +lat_0=0 +lon_0=16.33333333333333 +k=1 +x_0=750000 +y_0=-5000000 +ellps=bessel ' \\\n",
    "               '+towgs84=577.326,90.129,463.919,5.137,1.474,5.297,2.4232 +units=m +no_defs'"
   ]
  },
  {
   "cell_type": "markdown",
   "metadata": {},
   "source": [
    "The constructor of `SpatialRef` has two arguments: the encoded spatial reference system (EPSG, PROJ4 or WKT) and an optional argument for pre-defining the type (\"epsg\", \"wkt\" or \"proj4\"). If no type is specified, the type of the spatial reference system is guessed:"
   ]
  },
  {
   "cell_type": "code",
   "execution_count": 2,
   "metadata": {
    "slideshow": {
     "slide_type": "subslide"
    }
   },
   "outputs": [],
   "source": [
    "# initialise spat. ref. system by specifying the type\n",
    "sref = SpatialRef(epsg_code, sref_type=\"epsg\")\n",
    "# automatically guessing the type if no type is provided\n",
    "sref = SpatialRef(epsg_code)"
   ]
  },
  {
   "cell_type": "markdown",
   "metadata": {},
   "source": [
    "This initialised object now provides direct access to all three spatial reference system represenations."
   ]
  },
  {
   "cell_type": "code",
   "execution_count": 3,
   "metadata": {
    "slideshow": {
     "slide_type": "subslide"
    }
   },
   "outputs": [
    {
     "data": {
      "text/plain": [
       "31259"
      ]
     },
     "execution_count": 3,
     "metadata": {},
     "output_type": "execute_result"
    }
   ],
   "source": [
    "sref.epsg"
   ]
  },
  {
   "cell_type": "code",
   "execution_count": 4,
   "metadata": {
    "slideshow": {
     "slide_type": "subslide"
    }
   },
   "outputs": [
    {
     "data": {
      "text/plain": [
       "'PROJCS[\"MGI / Austria GK M34\",GEOGCS[\"MGI\",DATUM[\"Militar_Geographische_Institute\",SPHEROID[\"Bessel 1841\",6377397.155,299.1528128,AUTHORITY[\"EPSG\",\"7004\"]],TOWGS84[577.326,90.129,463.919,5.137,1.474,5.297,2.4232],AUTHORITY[\"EPSG\",\"6312\"]],PRIMEM[\"Greenwich\",0,AUTHORITY[\"EPSG\",\"8901\"]],UNIT[\"degree\",0.0174532925199433,AUTHORITY[\"EPSG\",\"9122\"]],AUTHORITY[\"EPSG\",\"4312\"]],PROJECTION[\"Transverse_Mercator\"],PARAMETER[\"latitude_of_origin\",0],PARAMETER[\"central_meridian\",16.33333333333333],PARAMETER[\"scale_factor\",1],PARAMETER[\"false_easting\",750000],PARAMETER[\"false_northing\",-5000000],UNIT[\"metre\",1,AUTHORITY[\"EPSG\",\"9001\"]],AUTHORITY[\"EPSG\",\"31259\"]]'"
      ]
     },
     "execution_count": 4,
     "metadata": {},
     "output_type": "execute_result"
    }
   ],
   "source": [
    "sref.wkt"
   ]
  },
  {
   "cell_type": "code",
   "execution_count": 5,
   "metadata": {
    "slideshow": {
     "slide_type": "subslide"
    }
   },
   "outputs": [
    {
     "name": "stderr",
     "output_type": "stream",
     "text": [
      "C:\\Users\\cnavacch\\AppData\\Local\\Continuum\\miniconda3\\envs\\geospade\\lib\\site-packages\\geospade-0.0.post0.dev45+g16aeb0c-py3.6.egg\\geospade\\crs.py:432: UserWarning: Transformation between 'EPSG' and 'PROJ4' is not bijective.\n",
      "  warnings.warn(warn_msg.format(self._sref_type.upper(), sref_type.upper()))\n"
     ]
    },
    {
     "data": {
      "text/plain": [
       "'+proj=tmerc +lat_0=0 +lon_0=16.33333333333333 +k=1 +x_0=750000 +y_0=-5000000 +ellps=bessel +towgs84=577.326,90.129,463.919,5.137,1.474,5.297,2.4232 +units=m +no_defs'"
      ]
     },
     "execution_count": 5,
     "metadata": {},
     "output_type": "execute_result"
    }
   ],
   "source": [
    "sref.proj4"
   ]
  },
  {
   "cell_type": "markdown",
   "metadata": {},
   "source": [
    "For each attribute, a check for bijectivity is performed with respect to the spatial reference type used in the constructor. In the case above, a transformation from EPSG to PROJ4 seems to have worked, but not the other way around.\n",
    "\n",
    "Moreover, some additional properties are given to work with commonly used Python objects. This includes an `osgeo.osr.SpatialReference` object,"
   ]
  },
  {
   "cell_type": "code",
   "execution_count": 6,
   "metadata": {
    "slideshow": {
     "slide_type": "subslide"
    }
   },
   "outputs": [
    {
     "data": {
      "text/plain": [
       "<osgeo.osr.SpatialReference; proxy of <Swig Object of type 'OSRSpatialReferenceShadow *' at 0x000001663D435030> >"
      ]
     },
     "execution_count": 6,
     "metadata": {},
     "output_type": "execute_result"
    }
   ],
   "source": [
    "sref.osr_sref"
   ]
  },
  {
   "cell_type": "markdown",
   "metadata": {},
   "source": [
    "a pretty WKT string,"
   ]
  },
  {
   "cell_type": "code",
   "execution_count": 7,
   "metadata": {
    "slideshow": {
     "slide_type": "subslide"
    }
   },
   "outputs": [
    {
     "name": "stdout",
     "output_type": "stream",
     "text": [
      "PROJCS[\"MGI / Austria GK M34\",\n",
      "    GEOGCS[\"MGI\",\n",
      "        DATUM[\"Militar_Geographische_Institute\",\n",
      "            SPHEROID[\"Bessel 1841\",6377397.155,299.1528128,\n",
      "                AUTHORITY[\"EPSG\",\"7004\"]],\n",
      "            TOWGS84[577.326,90.129,463.919,5.137,1.474,5.297,2.4232],\n",
      "            AUTHORITY[\"EPSG\",\"6312\"]],\n",
      "        PRIMEM[\"Greenwich\",0,\n",
      "            AUTHORITY[\"EPSG\",\"8901\"]],\n",
      "        UNIT[\"degree\",0.0174532925199433,\n",
      "            AUTHORITY[\"EPSG\",\"9122\"]],\n",
      "        AUTHORITY[\"EPSG\",\"4312\"]],\n",
      "    PROJECTION[\"Transverse_Mercator\"],\n",
      "    PARAMETER[\"latitude_of_origin\",0],\n",
      "    PARAMETER[\"central_meridian\",16.33333333333333],\n",
      "    PARAMETER[\"scale_factor\",1],\n",
      "    PARAMETER[\"false_easting\",750000],\n",
      "    PARAMETER[\"false_northing\",-5000000],\n",
      "    UNIT[\"metre\",1,\n",
      "        AUTHORITY[\"EPSG\",\"9001\"]],\n",
      "    AUTHORITY[\"EPSG\",\"31259\"]]\n"
     ]
    }
   ],
   "source": [
    "print(sref.to_pretty_wkt())"
   ]
  },
  {
   "cell_type": "markdown",
   "metadata": {},
   "source": [
    "a PROJ4 parameter dictionary,"
   ]
  },
  {
   "cell_type": "code",
   "execution_count": 8,
   "metadata": {
    "slideshow": {
     "slide_type": "subslide"
    }
   },
   "outputs": [
    {
     "data": {
      "text/plain": [
       "{'proj': 'tmerc',\n",
       " 'lat_0': 0.0,\n",
       " 'lon_0': 16.33333333333333,\n",
       " 'k': 1.0,\n",
       " 'x_0': 750000.0,\n",
       " 'y_0': -5000000.0,\n",
       " 'ellps': 'bessel',\n",
       " 'towgs84': '577.326,90.129,463.919,5.137,1.474,5.297,2.4232',\n",
       " 'units': 'm',\n",
       " 'no_defs': True}"
      ]
     },
     "execution_count": 8,
     "metadata": {},
     "output_type": "execute_result"
    }
   ],
   "source": [
    "sref.to_proj4_dict()"
   ]
  },
  {
   "cell_type": "markdown",
   "metadata": {},
   "source": [
    "and finally a Cartopy projection system."
   ]
  },
  {
   "cell_type": "code",
   "execution_count": 9,
   "metadata": {
    "slideshow": {
     "slide_type": "subslide"
    }
   },
   "outputs": [
    {
     "data": {
      "text/html": [
       "<?xml version=\"1.0\" encoding=\"utf-8\" standalone=\"no\"?>\n",
       "<!DOCTYPE svg PUBLIC \"-//W3C//DTD SVG 1.1//EN\"\n",
       "  \"http://www.w3.org/Graphics/SVG/1.1/DTD/svg11.dtd\">\n",
       "<!-- Created with matplotlib (https://matplotlib.org/) -->\n",
       "<svg height=\"177.48pt\" version=\"1.1\" viewBox=\"0 0 121.084711 177.48\" width=\"121.084711pt\" xmlns=\"http://www.w3.org/2000/svg\" xmlns:xlink=\"http://www.w3.org/1999/xlink\">\n",
       " <defs>\n",
       "  <style type=\"text/css\">\n",
       "*{stroke-linecap:butt;stroke-linejoin:round;}\n",
       "  </style>\n",
       " </defs>\n",
       " <g id=\"figure_1\">\n",
       "  <g id=\"patch_1\">\n",
       "   <path d=\"M 0 177.48 \n",
       "L 121.084711 177.48 \n",
       "L 121.084711 0 \n",
       "L 0 0 \n",
       "z\n",
       "\" style=\"fill:#ffffff;\"/>\n",
       "  </g>\n",
       "  <g id=\"axes_1\">\n",
       "   <g id=\"patch_2\">\n",
       "    <path d=\"M 7.2 170.28 \n",
       "L 7.2 7.2 \n",
       "L 113.884711 7.2 \n",
       "L 113.884711 170.28 \n",
       "L 7.2 170.28 \n",
       "\" style=\"fill:#ffffff;\"/>\n",
       "   </g>\n",
       "   <g id=\"LineCollection_1\">\n",
       "    <path clip-path=\"url(#p8354c5fb34)\" style=\"fill:none;stroke:#b0b0b0;stroke-width:0.8;\"/>\n",
       "    <path clip-path=\"url(#p8354c5fb34)\" d=\"M 14.904187 170.279999 \n",
       "L 14.946109 167.80002 \n",
       "L 15.050232 161.646991 \n",
       "L 15.154517 155.493866 \n",
       "L 15.258962 149.340647 \n",
       "L 15.363569 143.187333 \n",
       "L 15.468335 137.033925 \n",
       "L 15.573262 130.880421 \n",
       "L 15.678349 124.726823 \n",
       "L 15.783595 118.57313 \n",
       "L 15.889001 112.419342 \n",
       "L 15.994566 106.265459 \n",
       "L 16.10029 100.111482 \n",
       "L 16.206172 93.957411 \n",
       "L 16.312212 87.803244 \n",
       "L 16.41841 81.648983 \n",
       "L 16.524766 75.494627 \n",
       "L 16.63128 69.340177 \n",
       "L 16.73795 63.185633 \n",
       "L 16.844778 57.030994 \n",
       "L 16.951762 50.87626 \n",
       "L 17.058902 44.721432 \n",
       "L 17.166199 38.56651 \n",
       "L 17.273651 32.411493 \n",
       "L 17.381258 26.256382 \n",
       "L 17.489021 20.101176 \n",
       "L 17.596939 13.945877 \n",
       "L 17.705011 7.790483 \n",
       "L 17.715387 7.200002 \n",
       "\" style=\"fill:none;stroke:#b0b0b0;stroke-width:0.8;\"/>\n",
       "    <path clip-path=\"url(#p8354c5fb34)\" d=\"M 28.583697 170.279999 \n",
       "L 28.613498 168.005119 \n",
       "L 28.694189 161.852053 \n",
       "L 28.775004 155.698889 \n",
       "L 28.855944 149.545628 \n",
       "L 28.937008 143.392271 \n",
       "L 29.018197 137.238816 \n",
       "L 29.09951 131.085264 \n",
       "L 29.180947 124.931616 \n",
       "L 29.262508 118.77787 \n",
       "L 29.344192 112.624028 \n",
       "L 29.426 106.470089 \n",
       "L 29.507931 100.316053 \n",
       "L 29.589984 94.16192 \n",
       "L 29.67216 88.007691 \n",
       "L 29.754459 81.853364 \n",
       "L 29.83688 75.698941 \n",
       "L 29.919423 69.544421 \n",
       "L 30.002087 63.389805 \n",
       "L 30.084874 57.235092 \n",
       "L 30.167781 51.080282 \n",
       "L 30.25081 44.925376 \n",
       "L 30.33396 38.770373 \n",
       "L 30.41723 32.615273 \n",
       "L 30.500621 26.460078 \n",
       "L 30.584133 20.304785 \n",
       "L 30.667764 14.149397 \n",
       "L 30.751515 7.993912 \n",
       "L 30.762326 7.200002 \n",
       "\" style=\"fill:none;stroke:#b0b0b0;stroke-width:0.8;\"/>\n",
       "    <path clip-path=\"url(#p8354c5fb34)\" d=\"M 42.261233 170.279997 \n",
       "L 42.280958 168.158212 \n",
       "L 42.338219 162.005118 \n",
       "L 42.395569 155.851925 \n",
       "L 42.453007 149.698633 \n",
       "L 42.510534 143.545243 \n",
       "L 42.568149 137.391754 \n",
       "L 42.625853 131.238167 \n",
       "L 42.683644 125.084481 \n",
       "L 42.741523 118.930697 \n",
       "L 42.79949 112.776814 \n",
       "L 42.857544 106.622832 \n",
       "L 42.915686 100.468752 \n",
       "L 42.973914 94.314574 \n",
       "L 43.03223 88.160297 \n",
       "L 43.090633 82.005922 \n",
       "L 43.149123 75.851449 \n",
       "L 43.207699 69.696877 \n",
       "L 43.266361 63.542207 \n",
       "L 43.32511 57.387439 \n",
       "L 43.383945 51.232572 \n",
       "L 43.442866 45.077607 \n",
       "L 43.501873 38.922544 \n",
       "L 43.560966 32.767384 \n",
       "L 43.620144 26.612125 \n",
       "L 43.679407 20.456767 \n",
       "L 43.738756 14.301312 \n",
       "L 43.79819 8.145759 \n",
       "L 43.807329 7.200001 \n",
       "\" style=\"fill:none;stroke:#b0b0b0;stroke-width:0.8;\"/>\n",
       "    <path clip-path=\"url(#p8354c5fb34)\" d=\"M 55.937367 170.279997 \n",
       "L 55.948467 168.259308 \n",
       "L 55.982302 162.106195 \n",
       "L 56.016189 155.952983 \n",
       "L 56.050129 149.799671 \n",
       "L 56.084121 143.646259 \n",
       "L 56.118166 137.492747 \n",
       "L 56.152262 131.339136 \n",
       "L 56.18641 125.185426 \n",
       "L 56.22061 119.031616 \n",
       "L 56.254862 112.877706 \n",
       "L 56.289166 106.723696 \n",
       "L 56.323521 100.569587 \n",
       "L 56.357928 94.415379 \n",
       "L 56.392387 88.261071 \n",
       "L 56.426896 82.106664 \n",
       "L 56.461457 75.952157 \n",
       "L 56.496069 69.797551 \n",
       "L 56.530733 63.642846 \n",
       "L 56.565447 57.488041 \n",
       "L 56.600212 51.333137 \n",
       "L 56.635028 45.178134 \n",
       "L 56.669895 39.023032 \n",
       "L 56.704812 32.86783 \n",
       "L 56.73978 26.712529 \n",
       "L 56.774798 20.557129 \n",
       "L 56.809867 14.40163 \n",
       "L 56.844986 8.246033 \n",
       "L 56.850959 7.200005 \n",
       "L 56.850959 7.2 \n",
       "\" style=\"fill:none;stroke:#b0b0b0;stroke-width:0.8;\"/>\n",
       "    <path clip-path=\"url(#p8354c5fb34)\" d=\"M 69.612673 170.279999 \n",
       "L 69.616005 168.30841 \n",
       "L 69.626416 162.155288 \n",
       "L 69.636843 156.002066 \n",
       "L 69.647286 149.848744 \n",
       "L 69.657744 143.695322 \n",
       "L 69.668219 137.5418 \n",
       "L 69.67871 131.388177 \n",
       "L 69.689217 125.234455 \n",
       "L 69.69974 119.080632 \n",
       "L 69.710279 112.926709 \n",
       "L 69.720834 106.772686 \n",
       "L 69.731405 100.618563 \n",
       "L 69.741991 94.464341 \n",
       "L 69.752594 88.310018 \n",
       "L 69.763212 82.155595 \n",
       "L 69.773846 76.001072 \n",
       "L 69.784496 69.846449 \n",
       "L 69.795161 63.691727 \n",
       "L 69.805842 57.536904 \n",
       "L 69.816539 51.381982 \n",
       "L 69.827252 45.22696 \n",
       "L 69.83798 39.071839 \n",
       "L 69.848723 32.916617 \n",
       "L 69.859483 26.761296 \n",
       "L 69.870257 20.605876 \n",
       "L 69.881048 14.450355 \n",
       "L 69.891853 8.294736 \n",
       "L 69.893777 7.200003 \n",
       "\" style=\"fill:none;stroke:#b0b0b0;stroke-width:0.8;\"/>\n",
       "    <path clip-path=\"url(#p8354c5fb34)\" d=\"M 83.287724 170.279997 \n",
       "L 83.283553 168.305521 \n",
       "L 83.270539 162.1524 \n",
       "L 83.257506 155.999179 \n",
       "L 83.244452 149.845858 \n",
       "L 83.231379 143.692436 \n",
       "L 83.218285 137.538915 \n",
       "L 83.205171 131.385293 \n",
       "L 83.192037 125.231571 \n",
       "L 83.178884 119.077749 \n",
       "L 83.16571 112.923827 \n",
       "L 83.152517 106.769805 \n",
       "L 83.139303 100.615683 \n",
       "L 83.12607 94.46146 \n",
       "L 83.112817 88.307138 \n",
       "L 83.099544 82.152717 \n",
       "L 83.086252 75.998195 \n",
       "L 83.072939 69.843573 \n",
       "L 83.059608 63.688851 \n",
       "L 83.046256 57.53403 \n",
       "L 83.032885 51.379109 \n",
       "L 83.019495 45.224088 \n",
       "L 83.006084 39.068968 \n",
       "L 82.992655 32.913747 \n",
       "L 82.979206 26.758428 \n",
       "L 82.965737 20.603008 \n",
       "L 82.95225 14.447489 \n",
       "L 82.938743 8.291871 \n",
       "L 82.936345 7.200003 \n",
       "\" style=\"fill:none;stroke:#b0b0b0;stroke-width:0.8;\"/>\n",
       "    <path clip-path=\"url(#p8354c5fb34)\" d=\"M 96.963094 170.279999 \n",
       "L 96.951089 168.250642 \n",
       "L 96.914651 162.097531 \n",
       "L 96.878157 155.944321 \n",
       "L 96.841606 149.79101 \n",
       "L 96.804999 143.6376 \n",
       "L 96.768336 137.484091 \n",
       "L 96.731617 131.330482 \n",
       "L 96.694842 125.176773 \n",
       "L 96.658011 119.022965 \n",
       "L 96.621124 112.869058 \n",
       "L 96.584181 106.715051 \n",
       "L 96.547183 100.560945 \n",
       "L 96.510129 94.406739 \n",
       "L 96.47302 88.252434 \n",
       "L 96.435856 82.098029 \n",
       "L 96.398636 75.943525 \n",
       "L 96.361362 69.788922 \n",
       "L 96.324032 63.63422 \n",
       "L 96.286647 57.479418 \n",
       "L 96.249208 51.324517 \n",
       "L 96.211714 45.169518 \n",
       "L 96.174165 39.014419 \n",
       "L 96.136561 32.85922 \n",
       "L 96.098904 26.703923 \n",
       "L 96.061191 20.548527 \n",
       "L 96.023425 14.393032 \n",
       "L 95.985604 8.237438 \n",
       "L 95.979225 7.200005 \n",
       "L 95.979225 7.2 \n",
       "\" style=\"fill:none;stroke:#b0b0b0;stroke-width:0.8;\"/>\n",
       "    <path clip-path=\"url(#p8354c5fb34)\" d=\"M 110.639356 170.279999 \n",
       "L 110.618593 168.14377 \n",
       "L 110.558729 161.990678 \n",
       "L 110.498772 155.837488 \n",
       "L 110.438723 149.684199 \n",
       "L 110.378581 143.530812 \n",
       "L 110.318346 137.377327 \n",
       "L 110.25802 131.223743 \n",
       "L 110.197601 125.07006 \n",
       "L 110.137091 118.916279 \n",
       "L 110.076489 112.7624 \n",
       "L 110.015796 106.608423 \n",
       "L 109.955011 100.454347 \n",
       "L 109.894136 94.300173 \n",
       "L 109.833169 88.145901 \n",
       "L 109.772111 81.99153 \n",
       "L 109.710963 75.837061 \n",
       "L 109.649724 69.682495 \n",
       "L 109.588394 63.52783 \n",
       "L 109.526975 57.373066 \n",
       "L 109.465465 51.218205 \n",
       "L 109.403866 45.063246 \n",
       "L 109.342176 38.908189 \n",
       "L 109.280397 32.753034 \n",
       "L 109.218529 26.597781 \n",
       "L 109.156572 20.44243 \n",
       "L 109.094525 14.286981 \n",
       "L 109.032389 8.131434 \n",
       "L 109.02298 7.200001 \n",
       "\" style=\"fill:none;stroke:#b0b0b0;stroke-width:0.8;\"/>\n",
       "    <path clip-path=\"url(#p8354c5fb34)\" style=\"fill:none;stroke:#b0b0b0;stroke-width:0.8;\"/>\n",
       "   </g>\n",
       "   <g id=\"LineCollection_2\">\n",
       "    <path clip-path=\"url(#p8354c5fb34)\" style=\"fill:none;stroke:#b0b0b0;stroke-width:0.8;\"/>\n",
       "    <path clip-path=\"url(#p8354c5fb34)\" d=\"M 7.200002 153.982209 \n",
       "L 10.013327 154.035128 \n",
       "L 14.238733 154.110437 \n",
       "L 18.464148 154.180739 \n",
       "L 22.689573 154.246032 \n",
       "L 26.915007 154.306319 \n",
       "L 31.140448 154.361599 \n",
       "L 35.365897 154.411872 \n",
       "L 39.591352 154.457139 \n",
       "L 43.816813 154.497399 \n",
       "L 48.042279 154.532654 \n",
       "L 52.26775 154.562903 \n",
       "L 56.493224 154.588146 \n",
       "L 60.718702 154.608384 \n",
       "L 64.944182 154.623616 \n",
       "L 69.169664 154.633843 \n",
       "L 73.395147 154.639064 \n",
       "L 77.62063 154.639281 \n",
       "L 81.846113 154.634492 \n",
       "L 86.071595 154.624697 \n",
       "L 90.297075 154.609898 \n",
       "L 94.522553 154.590093 \n",
       "L 98.748028 154.565282 \n",
       "L 102.973499 154.535466 \n",
       "L 107.198965 154.500644 \n",
       "L 111.424427 154.460816 \n",
       "L 113.88471 154.43532 \n",
       "\" style=\"fill:none;stroke:#b0b0b0;stroke-width:0.8;\"/>\n",
       "    <path clip-path=\"url(#p8354c5fb34)\" d=\"M 7.200003 134.147476 \n",
       "L 10.379356 134.207745 \n",
       "L 14.581204 134.283002 \n",
       "L 18.783064 134.353254 \n",
       "L 22.984935 134.418502 \n",
       "L 27.186816 134.478747 \n",
       "L 31.388706 134.533988 \n",
       "L 35.590604 134.584226 \n",
       "L 39.79251 134.629461 \n",
       "L 43.994423 134.669694 \n",
       "L 48.196342 134.704924 \n",
       "L 52.398266 134.735152 \n",
       "L 56.600194 134.760377 \n",
       "L 60.802126 134.780601 \n",
       "L 65.004061 134.795822 \n",
       "L 69.205998 134.806042 \n",
       "L 73.407936 134.81126 \n",
       "L 77.609875 134.811476 \n",
       "L 81.811813 134.806691 \n",
       "L 86.01375 134.796903 \n",
       "L 90.215685 134.782114 \n",
       "L 94.417618 134.762322 \n",
       "L 98.619547 134.737529 \n",
       "L 102.821471 134.707734 \n",
       "L 107.02339 134.672936 \n",
       "L 111.225304 134.633136 \n",
       "L 113.884708 134.605361 \n",
       "\" style=\"fill:none;stroke:#b0b0b0;stroke-width:0.8;\"/>\n",
       "    <path clip-path=\"url(#p8354c5fb34)\" d=\"M 7.200003 114.311624 \n",
       "L 10.747188 114.379388 \n",
       "L 14.925363 114.454584 \n",
       "L 19.103551 114.524779 \n",
       "L 23.281752 114.589975 \n",
       "L 27.459964 114.650171 \n",
       "L 31.638187 114.705367 \n",
       "L 35.816419 114.755565 \n",
       "L 39.99466 114.800763 \n",
       "L 44.172908 114.840964 \n",
       "L 48.351164 114.876165 \n",
       "L 52.529425 114.906369 \n",
       "L 56.707691 114.931574 \n",
       "L 60.885962 114.951781 \n",
       "L 65.064236 114.96699 \n",
       "L 69.242512 114.977202 \n",
       "L 73.420789 114.982416 \n",
       "L 77.599067 114.982632 \n",
       "L 81.777345 114.97785 \n",
       "L 85.955621 114.96807 \n",
       "L 90.133895 114.953293 \n",
       "L 94.312166 114.933517 \n",
       "L 98.490432 114.908744 \n",
       "L 102.668694 114.878973 \n",
       "L 106.84695 114.844203 \n",
       "L 111.025199 114.804435 \n",
       "L 113.884707 114.774337 \n",
       "L 113.88471 114.774337 \n",
       "\" style=\"fill:none;stroke:#b0b0b0;stroke-width:0.8;\"/>\n",
       "    <path clip-path=\"url(#p8354c5fb34)\" d=\"M 7.200003 94.474652 \n",
       "L 11.116814 94.550058 \n",
       "L 15.2712 94.625185 \n",
       "L 19.425602 94.695315 \n",
       "L 23.580017 94.760451 \n",
       "L 27.734445 94.820592 \n",
       "L 31.888884 94.875737 \n",
       "L 36.043335 94.925889 \n",
       "L 40.197795 94.971046 \n",
       "L 44.352264 95.011209 \n",
       "L 48.506741 95.046379 \n",
       "L 52.661224 95.076554 \n",
       "L 56.815713 95.101736 \n",
       "L 60.970206 95.121925 \n",
       "L 65.124704 95.137121 \n",
       "L 69.279203 95.147323 \n",
       "L 73.433705 95.152532 \n",
       "L 77.588206 95.152747 \n",
       "L 81.742708 95.14797 \n",
       "L 85.897208 95.138199 \n",
       "L 90.051705 95.123435 \n",
       "L 94.206199 95.103678 \n",
       "L 98.360688 95.078928 \n",
       "L 102.515172 95.049183 \n",
       "L 106.669649 95.014446 \n",
       "L 110.824119 94.974714 \n",
       "L 113.884707 94.942249 \n",
       "L 113.88471 94.942249 \n",
       "\" style=\"fill:none;stroke:#b0b0b0;stroke-width:0.8;\"/>\n",
       "    <path clip-path=\"url(#p8354c5fb34)\" d=\"M 7.200002 74.63656 \n",
       "L 7.357757 74.639716 \n",
       "L 11.488223 74.719755 \n",
       "L 15.618706 74.794804 \n",
       "L 19.749206 74.864863 \n",
       "L 23.879721 74.929932 \n",
       "L 28.01025 74.99001 \n",
       "L 32.140792 75.045099 \n",
       "L 36.271347 75.095199 \n",
       "L 40.401911 75.14031 \n",
       "L 44.532486 75.180432 \n",
       "L 48.663069 75.215565 \n",
       "L 52.793659 75.24571 \n",
       "L 56.924256 75.270866 \n",
       "L 61.054858 75.291034 \n",
       "L 65.185463 75.306214 \n",
       "L 69.316072 75.316405 \n",
       "L 73.446682 75.321609 \n",
       "L 77.577293 75.321825 \n",
       "L 81.707904 75.317052 \n",
       "L 85.838512 75.307291 \n",
       "L 89.969118 75.292543 \n",
       "L 94.099721 75.272806 \n",
       "L 98.230318 75.248081 \n",
       "L 102.360909 75.218367 \n",
       "L 106.491492 75.183665 \n",
       "L 110.622068 75.143974 \n",
       "L 113.884711 75.109097 \n",
       "\" style=\"fill:none;stroke:#b0b0b0;stroke-width:0.8;\"/>\n",
       "    <path clip-path=\"url(#p8354c5fb34)\" d=\"M 7.200001 54.797346 \n",
       "L 7.754958 54.808533 \n",
       "L 11.861405 54.888481 \n",
       "L 15.967871 54.963445 \n",
       "L 20.074356 55.033423 \n",
       "L 24.180857 55.098418 \n",
       "L 28.287373 55.158428 \n",
       "L 32.393904 55.213454 \n",
       "L 36.500447 55.263497 \n",
       "L 40.607003 55.308556 \n",
       "L 44.713569 55.348632 \n",
       "L 48.820144 55.383726 \n",
       "L 52.926727 55.413836 \n",
       "L 57.033318 55.438963 \n",
       "L 61.139913 55.459109 \n",
       "L 65.246514 55.474271 \n",
       "L 69.353117 55.484451 \n",
       "L 73.459722 55.489649 \n",
       "L 77.566328 55.489864 \n",
       "L 81.672933 55.485097 \n",
       "L 85.779537 55.475347 \n",
       "L 89.886137 55.460616 \n",
       "L 93.992733 55.440901 \n",
       "L 98.099324 55.416204 \n",
       "L 102.205908 55.386524 \n",
       "L 106.312484 55.351862 \n",
       "L 110.419051 55.312216 \n",
       "L 113.884711 55.274881 \n",
       "\" style=\"fill:none;stroke:#b0b0b0;stroke-width:0.8;\"/>\n",
       "    <path clip-path=\"url(#p8354c5fb34)\" d=\"M 7.200003 34.95701 \n",
       "L 8.154036 34.976388 \n",
       "L 12.236351 35.056236 \n",
       "L 16.318687 35.131106 \n",
       "L 20.401042 35.200997 \n",
       "L 24.483415 35.26591 \n",
       "L 28.565806 35.325845 \n",
       "L 32.648211 35.380802 \n",
       "L 36.730631 35.430783 \n",
       "L 40.813064 35.475786 \n",
       "L 44.895508 35.515812 \n",
       "L 48.977962 35.550861 \n",
       "L 53.060425 35.580934 \n",
       "L 57.142895 35.60603 \n",
       "L 61.225371 35.62615 \n",
       "L 65.307852 35.641294 \n",
       "L 69.390337 35.651461 \n",
       "L 73.472824 35.656652 \n",
       "L 77.555311 35.656867 \n",
       "L 81.637797 35.652106 \n",
       "L 85.720282 35.642369 \n",
       "L 89.802764 35.627655 \n",
       "L 93.88524 35.607965 \n",
       "L 97.967711 35.583299 \n",
       "L 102.050175 35.553656 \n",
       "L 106.13263 35.519037 \n",
       "L 110.215075 35.479441 \n",
       "L 113.884709 35.439602 \n",
       "\" style=\"fill:none;stroke:#b0b0b0;stroke-width:0.8;\"/>\n",
       "    <path clip-path=\"url(#p8354c5fb34)\" d=\"M 7.200003 15.115551 \n",
       "L 8.55498 15.143283 \n",
       "L 12.61305 15.223022 \n",
       "L 16.671143 15.29779 \n",
       "L 20.729256 15.367585 \n",
       "L 24.787389 15.43241 \n",
       "L 28.845541 15.492263 \n",
       "L 32.903709 15.547146 \n",
       "L 36.961892 15.597058 \n",
       "L 41.020089 15.642 \n",
       "L 45.078298 15.681971 \n",
       "L 49.136518 15.716973 \n",
       "L 53.194748 15.747005 \n",
       "L 57.252985 15.772067 \n",
       "L 61.311229 15.792159 \n",
       "L 65.369478 15.807282 \n",
       "L 69.427731 15.817436 \n",
       "L 73.485986 15.82262 \n",
       "L 77.544242 15.822835 \n",
       "L 81.602497 15.81808 \n",
       "L 85.66075 15.808356 \n",
       "L 89.719 15.793663 \n",
       "L 93.777245 15.774 \n",
       "L 97.835483 15.749367 \n",
       "L 101.893713 15.719765 \n",
       "L 105.951934 15.685192 \n",
       "L 110.010144 15.64565 \n",
       "L 113.884709 15.60326 \n",
       "\" style=\"fill:none;stroke:#b0b0b0;stroke-width:0.8;\"/>\n",
       "    <path clip-path=\"url(#p8354c5fb34)\" style=\"fill:none;stroke:#b0b0b0;stroke-width:0.8;\"/>\n",
       "   </g>\n",
       "   <g id=\"patch_3\">\n",
       "    <path d=\"M 7.2 170.28 \n",
       "L 7.2 7.2 \n",
       "L 113.884711 7.2 \n",
       "L 113.884711 170.28 \n",
       "L 7.2 170.28 \n",
       "\" style=\"fill:none;stroke:#000000;stroke-linejoin:miter;\"/>\n",
       "   </g>\n",
       "  </g>\n",
       " </g>\n",
       " <defs>\n",
       "  <clipPath id=\"p8354c5fb34\">\n",
       "   <rect height=\"163.08\" width=\"106.684711\" x=\"7.2\" y=\"7.2\"/>\n",
       "  </clipPath>\n",
       " </defs>\n",
       "</svg>\n",
       "<pre>_EPSGProjection(31259)</pre>"
      ],
      "text/plain": [
       "_EPSGProjection(31259)"
      ]
     },
     "execution_count": 9,
     "metadata": {},
     "output_type": "execute_result"
    }
   ],
   "source": [
    "sref.to_cartopy_proj()"
   ]
  },
  {
   "cell_type": "markdown",
   "metadata": {},
   "source": [
    "Moreover, you can initialise a `SpatialRef` object from a `osgeo.osr.SpatialReference` object."
   ]
  },
  {
   "cell_type": "code",
   "execution_count": 10,
   "metadata": {},
   "outputs": [
    {
     "data": {
      "text/plain": [
       "'+proj=longlat +datum=WGS84 +no_defs'"
      ]
     },
     "execution_count": 10,
     "metadata": {},
     "output_type": "execute_result"
    }
   ],
   "source": [
    "from osgeo import osr\n",
    "\n",
    "osr_sref = osr.SpatialReference()\n",
    "osr_sref.ImportFromEPSG(4326)\n",
    "sref2 = SpatialRef.from_osr(osr_sref)\n",
    "sref2.proj4"
   ]
  },
  {
   "cell_type": "markdown",
   "metadata": {},
   "source": [
    "Several static methods can also help you transform between different representations, e.g. "
   ]
  },
  {
   "cell_type": "code",
   "execution_count": 11,
   "metadata": {},
   "outputs": [
    {
     "data": {
      "text/plain": [
       "'GEOGCS[\"WGS 84\",DATUM[\"WGS_1984\",SPHEROID[\"WGS 84\",6378137,298.257223563,AUTHORITY[\"EPSG\",\"7030\"]],AUTHORITY[\"EPSG\",\"6326\"]],PRIMEM[\"Greenwich\",0,AUTHORITY[\"EPSG\",\"8901\"]],UNIT[\"degree\",0.0174532925199433,AUTHORITY[\"EPSG\",\"9122\"]],AUTHORITY[\"EPSG\",\"4326\"]]'"
      ]
     },
     "execution_count": 11,
     "metadata": {},
     "output_type": "execute_result"
    }
   ],
   "source": [
    "SpatialRef.osr_to_wkt(osr_sref)"
   ]
  },
  {
   "cell_type": "markdown",
   "metadata": {},
   "source": [
    "More `SpatialRef` objects can also interact with each on the basis of comparison operators:"
   ]
  },
  {
   "cell_type": "code",
   "execution_count": 12,
   "metadata": {},
   "outputs": [
    {
     "data": {
      "text/plain": [
       "False"
      ]
     },
     "execution_count": 12,
     "metadata": {},
     "output_type": "execute_result"
    }
   ],
   "source": [
    "sref == sref2"
   ]
  },
  {
   "cell_type": "code",
   "execution_count": 13,
   "metadata": {},
   "outputs": [
    {
     "data": {
      "text/plain": [
       "True"
      ]
     },
     "execution_count": 13,
     "metadata": {},
     "output_type": "execute_result"
    }
   ],
   "source": [
    "sref != sref2"
   ]
  }
 ],
 "metadata": {
  "celltoolbar": "Slideshow",
  "kernelspec": {
   "display_name": "geospade",
   "language": "python",
   "name": "geospade"
  },
  "language_info": {
   "codemirror_mode": {
    "name": "ipython",
    "version": 3
   },
   "file_extension": ".py",
   "mimetype": "text/x-python",
   "name": "python",
   "nbconvert_exporter": "python",
   "pygments_lexer": "ipython3",
   "version": "3.6.7"
  }
 },
 "nbformat": 4,
 "nbformat_minor": 2
}
